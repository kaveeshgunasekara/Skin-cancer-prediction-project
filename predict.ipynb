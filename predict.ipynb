{
 "cells": [
  {
   "cell_type": "code",
   "execution_count": 1,
   "id": "703f4d89-49f8-4ae2-863c-fd676eed8461",
   "metadata": {},
   "outputs": [],
   "source": [
    "import mysql.connector\n",
    "from tensorflow.keras.models import load_model\n",
    "from tensorflow.keras.preprocessing import image\n",
    "import numpy as np\n",
    "import os\n",
    "import tensorflow as tf"
   ]
  },
  {
   "cell_type": "code",
   "execution_count": 2,
   "id": "f57c9591-0832-4e3d-bc0a-031301be8eba",
   "metadata": {},
   "outputs": [],
   "source": [
    "# Suppress TensorFlow warnings\n",
    "tf.get_logger().setLevel('ERROR')"
   ]
  },
  {
   "cell_type": "code",
   "execution_count": 3,
   "id": "12ac80fe-e96d-423f-b091-82608b6df063",
   "metadata": {},
   "outputs": [],
   "source": [
    "# Database connection details\n",
    "db_config = {\n",
    "    'host': 'localhost',          # Change if necessary\n",
    "    'user': 'root',               # Your MySQL username\n",
    "    'password': '',               # Your MySQL password\n",
    "    'database': 'skin_cancer_prediction'  # Your database name\n",
    "}"
   ]
  },
  {
   "cell_type": "code",
   "execution_count": 4,
   "id": "ec7157bd-6b52-49d3-a87a-2ebe9dded045",
   "metadata": {},
   "outputs": [],
   "source": [
    "# Connect to the database\n",
    "conn = mysql.connector.connect(**db_config)\n",
    "cursor = conn.cursor(dictionary=True)"
   ]
  },
  {
   "cell_type": "code",
   "execution_count": 5,
   "id": "d85735b0-0324-4891-a99d-705c962243e1",
   "metadata": {},
   "outputs": [],
   "source": [
    "# Query to get the latest entry (or adjust based on your needs)\n",
    "query = \"SELECT * FROM predictions ORDER BY submission_date DESC LIMIT 1\"\n",
    "cursor.execute(query)\n",
    "result = cursor.fetchone()"
   ]
  },
  {
   "cell_type": "code",
   "execution_count": 6,
   "id": "ab1062b2-c893-4113-9643-cd7599c13594",
   "metadata": {},
   "outputs": [],
   "source": [
    "# Close the database connection\n",
    "cursor.close()\n",
    "conn.close()"
   ]
  },
  {
   "cell_type": "code",
   "execution_count": 7,
   "id": "8b0f726a-9740-4d95-8a61-9283a57c6c5c",
   "metadata": {},
   "outputs": [
    {
     "name": "stdout",
     "output_type": "stream",
     "text": [
      "Retrieved data - Image Path: /Applications/XAMPP/xamppfiles/htdocs/cancer/uploads/ISIC_0029305.jpg, Learning Rate: 0.01, Epochs: 10, Batch Size: 32\n"
     ]
    }
   ],
   "source": [
    "# Extract data from the result\n",
    "image_path = result['image_path']\n",
    "learning_rate = result.get('learning_rate')\n",
    "num_epochs = result.get('num_epochs')\n",
    "batch_size = result.get('batch_size')\n",
    "\n",
    "print(f\"Retrieved data - Image Path: {image_path}, Learning Rate: {learning_rate}, Epochs: {num_epochs}, Batch Size: {batch_size}\")"
   ]
  },
  {
   "cell_type": "code",
   "execution_count": 8,
   "id": "1afd7491-842f-4578-83e0-8827fccf753c",
   "metadata": {},
   "outputs": [],
   "source": [
    "# Load and preprocess the image\n",
    "def load_and_preprocess_image(image_path):\n",
    "    # Change target size to match the model's expected input shape\n",
    "    img = image.load_img(image_path, target_size=(100, 100))  # Resize to 100x100 as expected by the model\n",
    "    img_array = image.img_to_array(img)\n",
    "    img_array = np.expand_dims(img_array, axis=0) / 255.0  # Normalize the image if required by the model\n",
    "    return img_array"
   ]
  },
  {
   "cell_type": "code",
   "execution_count": 9,
   "id": "3a1d4f12-0cad-48fb-87db-062b8624f051",
   "metadata": {},
   "outputs": [
    {
     "name": "stdout",
     "output_type": "stream",
     "text": [
      "Preprocessed image shape: (1, 100, 100, 3)\n",
      "1/1 [==============================] - 0s 123ms/step\n",
      "The model predicts: Malignant (Score: 0.6142)\n",
      "Prediction Confidence: 61.42%\n"
     ]
    },
    {
     "name": "stderr",
     "output_type": "stream",
     "text": [
      "2024-10-01 20:01:06.311423: W tensorflow/tsl/platform/profile_utils/cpu_utils.cc:128] Failed to get CPU frequency: 0 Hz\n"
     ]
    }
   ],
   "source": [
    "# Check if the image file exists\n",
    "if not os.path.exists(image_path):\n",
    "    print(f\"Error: The image path '{image_path}' does not exist.\")\n",
    "else:\n",
    "    # Load the trained model\n",
    "    model = load_model('model.h5')\n",
    "\n",
    "    # Load and preprocess the image for prediction\n",
    "    preprocessed_image = load_and_preprocess_image(image_path)\n",
    "\n",
    "    # Ensure the shape is correct before prediction\n",
    "    print(f\"Preprocessed image shape: {preprocessed_image.shape}\")\n",
    "\n",
    "    # Make prediction\n",
    "    prediction = model.predict(preprocessed_image)\n",
    "\n",
    "    # Display the result (assuming binary classification; adjust as necessary)\n",
    "    # For example, if your model predicts a value close to 0 -> 'Benign', close to 1 -> 'Malignant'\n",
    "    threshold = 0.5\n",
    "    result_label = 'Malignant' if prediction[0][0] > threshold else 'Benign'\n",
    "    prediction_score = prediction[0][0]\n",
    "\n",
    "    # Calculate and display the accuracy/confidence\n",
    "    confidence = prediction_score if result_label == 'Malignant' else (1 - prediction_score)\n",
    "    accuracy_percentage = confidence * 100\n",
    "\n",
    "    print(f\"The model predicts: {result_label} (Score: {prediction_score:.4f})\")\n",
    "    print(f\"Prediction Confidence: {accuracy_percentage:.2f}%\")"
   ]
  },
  {
   "cell_type": "code",
   "execution_count": null,
   "id": "c4b1f699-79e6-42e0-bc23-571777cd0015",
   "metadata": {},
   "outputs": [],
   "source": []
  }
 ],
 "metadata": {
  "kernelspec": {
   "display_name": "Python 3 (ipykernel)",
   "language": "python",
   "name": "python3"
  },
  "language_info": {
   "codemirror_mode": {
    "name": "ipython",
    "version": 3
   },
   "file_extension": ".py",
   "mimetype": "text/x-python",
   "name": "python",
   "nbconvert_exporter": "python",
   "pygments_lexer": "ipython3",
   "version": "3.11.5"
  }
 },
 "nbformat": 4,
 "nbformat_minor": 5
}
