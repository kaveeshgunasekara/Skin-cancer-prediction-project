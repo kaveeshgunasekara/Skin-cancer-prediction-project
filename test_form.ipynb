{
 "cells": [
  {
   "cell_type": "code",
   "execution_count": 7,
   "id": "1ac1cce2-696d-4485-8b4c-c2bd6c4d9f28",
   "metadata": {},
   "outputs": [
    {
     "name": "stdout",
     "output_type": "stream",
     "text": [
      "Test passed: Form submitted successfully and data saved!\n"
     ]
    }
   ],
   "source": [
    "from selenium import webdriver\n",
    "from selenium.webdriver.common.by import By\n",
    "from selenium.webdriver.chrome.service import Service\n",
    "import time\n",
    "\n",
    "# Initialize WebDriver with Service\n",
    "service = Service('/usr/local/bin/chromedriver')\n",
    "driver = webdriver.Chrome(service=service)\n",
    "\n",
    "try:\n",
    "    # Open the HTML form\n",
    "    driver.get('http://localhost/cancer/index.html')  # Change to your local server URL\n",
    "\n",
    "    # Locate and upload an image file\n",
    "    file_input = driver.find_element(By.ID, \"skinImage\")\n",
    "    file_input.send_keys(\"/Applications/XAMPP/xamppfiles/htdocs/cancer/uploads/ISIC_0029305.jpg\")  # Replace with a valid image path\n",
    "\n",
    "    # Fill in optional parameters\n",
    "    learning_rate_input = driver.find_element(By.NAME, \"learningRate\")\n",
    "    learning_rate_input.clear()\n",
    "    learning_rate_input.send_keys(\"0.01\")\n",
    "\n",
    "    epochs_input = driver.find_element(By.NAME, \"numEpochs\")\n",
    "    epochs_input.clear()\n",
    "    epochs_input.send_keys(\"10\")\n",
    "\n",
    "    batch_size_input = driver.find_element(By.NAME, \"batchSize\")\n",
    "    batch_size_input.clear()\n",
    "    batch_size_input.send_keys(\"32\")\n",
    "\n",
    "    # Submit the form\n",
    "    submit_button = driver.find_element(By.XPATH, \"//input[@type='submit']\")\n",
    "    submit_button.click()\n",
    "\n",
    "    # Wait for the response\n",
    "    time.sleep(3)\n",
    "\n",
    "    # Verify success message\n",
    "    assert \"Data and image successfully saved!\" in driver.page_source\n",
    "    print(\"Test passed: Form submitted successfully and data saved!\")\n",
    "\n",
    "except Exception as e:\n",
    "    print(f\"Test failed: {e}\")\n",
    "\n",
    "finally:\n",
    "    # Close the browser\n",
    "    driver.quit()\n"
   ]
  },
  {
   "cell_type": "code",
   "execution_count": null,
   "id": "fe1fdc3b-0383-4d6c-8f8d-abcc60923762",
   "metadata": {},
   "outputs": [],
   "source": []
  }
 ],
 "metadata": {
  "kernelspec": {
   "display_name": "Python 3 (ipykernel)",
   "language": "python",
   "name": "python3"
  },
  "language_info": {
   "codemirror_mode": {
    "name": "ipython",
    "version": 3
   },
   "file_extension": ".py",
   "mimetype": "text/x-python",
   "name": "python",
   "nbconvert_exporter": "python",
   "pygments_lexer": "ipython3",
   "version": "3.11.5"
  }
 },
 "nbformat": 4,
 "nbformat_minor": 5
}
